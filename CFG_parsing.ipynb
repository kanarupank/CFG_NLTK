{
 "cells": [
  {
   "cell_type": "code",
   "execution_count": 15,
   "metadata": {},
   "outputs": [],
   "source": [
    "import nltk\n",
    "import tkinter"
   ]
  },
  {
   "cell_type": "code",
   "execution_count": 16,
   "metadata": {},
   "outputs": [],
   "source": [
    "sentence_1 = \"Book that flight\".split()\n",
    "sentence_2='can you book TWA flights'.split()"
   ]
  },
  {
   "cell_type": "code",
   "execution_count": 17,
   "metadata": {},
   "outputs": [],
   "source": [
    "grammar =nltk.CFG.fromstring(\"\"\"\n",
    "S -> VP\n",
    "S -> Aux NP VP\n",
    "VP -> Verb NP\n",
    "VP -> Verb NP NP\n",
    "VP -> Verb NP\n",
    "NP -> Det Nom\n",
    "NP -> Pro\n",
    "NP -> PNoun\n",
    "NP -> Nom\n",
    "Nom -> Noun\n",
    "Nom -> PNoun Nom\n",
    "Verb -> 'Book' | 'book'\n",
    "Det -> 'that'\n",
    "Noun -> 'flight' | 'flights'\n",
    "Aux -> 'can'\n",
    "Pro -> 'you'\n",
    "PNoun -> \"TWA\" \n",
    "\"\"\")"
   ]
  },
  {
   "cell_type": "code",
   "execution_count": 18,
   "metadata": {},
   "outputs": [
    {
     "name": "stdout",
     "output_type": "stream",
     "text": [
      "S -> VP\n",
      "S -> Aux NP VP\n",
      "VP -> Verb NP\n",
      "VP -> Verb NP NP\n",
      "VP -> Verb NP\n",
      "NP -> Det Nom\n",
      "NP -> Pro\n",
      "NP -> PNoun\n",
      "NP -> Nom\n",
      "Nom -> Noun\n",
      "Nom -> PNoun Nom\n",
      "Verb -> 'Book'\n",
      "Verb -> 'book'\n",
      "Det -> 'that'\n",
      "Noun -> 'flight'\n",
      "Noun -> 'flights'\n",
      "Aux -> 'can'\n",
      "Pro -> 'you'\n",
      "PNoun -> 'TWA'\n"
     ]
    }
   ],
   "source": [
    "for p in grammar.productions():\n",
    "    print(p)"
   ]
  },
  {
   "cell_type": "code",
   "execution_count": 22,
   "metadata": {},
   "outputs": [
    {
     "name": "stdout",
     "output_type": "stream",
     "text": [
      "(S (VP (Verb Book) (NP (Det that) (Nom (Noun flight)))))\n",
      "(S (VP (Verb Book) (NP (Det that) (Nom (Noun flight)))))\n"
     ]
    }
   ],
   "source": [
    "recursive_descent_parser = nltk.RecursiveDescentParser(grammar)\n",
    "for tree in recursive_descent_parser.parse(sentence_1):\n",
    "    print(tree)\n",
    "    tree.draw()"
   ]
  },
  {
   "cell_type": "code",
   "execution_count": 23,
   "metadata": {},
   "outputs": [
    {
     "name": "stdout",
     "output_type": "stream",
     "text": [
      "(S\n",
      "  (Aux can)\n",
      "  (NP (Pro you))\n",
      "  (VP (Verb book) (NP (Nom (PNoun TWA) (Nom (Noun flights))))))\n",
      "(S\n",
      "  (Aux can)\n",
      "  (NP (Pro you))\n",
      "  (VP (Verb book) (NP (PNoun TWA)) (NP (Nom (Noun flights)))))\n",
      "(S\n",
      "  (Aux can)\n",
      "  (NP (Pro you))\n",
      "  (VP (Verb book) (NP (Nom (PNoun TWA) (Nom (Noun flights))))))\n"
     ]
    }
   ],
   "source": [
    "for tree in recursive_descent_parser.parse(sentence_2):\n",
    "    print(tree)\n",
    "    tree.draw()"
   ]
  },
  {
   "cell_type": "code",
   "execution_count": 24,
   "metadata": {},
   "outputs": [
    {
     "name": "stdout",
     "output_type": "stream",
     "text": [
      "Warning: VP -> Verb NP will never be used\n",
      "Warning: VP -> Verb NP NP will never be used\n"
     ]
    }
   ],
   "source": [
    "shift_reduce_parser = nltk.ShiftReduceParser(grammar)"
   ]
  },
  {
   "cell_type": "code",
   "execution_count": 28,
   "metadata": {},
   "outputs": [
    {
     "name": "stdout",
     "output_type": "stream",
     "text": [
      "(S (VP (Verb Book) (NP (Det that) (Nom (Noun flight)))))\n"
     ]
    }
   ],
   "source": [
    "for tree in shift_reduce_parser.parse(sentence_1):\n",
    "    print(tree)\n",
    "    tree.draw()"
   ]
  },
  {
   "cell_type": "code",
   "execution_count": 26,
   "metadata": {},
   "outputs": [],
   "source": [
    "#No bottom-up trees though it's a well formed sentence\n",
    "for tree in shift_reduce_parser.parse(sentence_2):\n",
    "    print(tree)\n",
    "    tree.draw()"
   ]
  },
  {
   "cell_type": "code",
   "execution_count": 30,
   "metadata": {},
   "outputs": [],
   "source": [
    "#Bottom-up and Top-down parser \n",
    "left_corner_parser = nltk.IncrementalLeftCornerChartParser(grammar)"
   ]
  },
  {
   "cell_type": "code",
   "execution_count": 32,
   "metadata": {},
   "outputs": [
    {
     "name": "stdout",
     "output_type": "stream",
     "text": [
      "(S (VP (Verb Book) (NP (Det that) (Nom (Noun flight)))))\n"
     ]
    }
   ],
   "source": [
    "#left corner parser\n",
    "for tree in left_corner_parser.parse(sentence1):\n",
    "    print(tree)\n",
    "    tree.draw()"
   ]
  },
  {
   "cell_type": "code",
   "execution_count": 36,
   "metadata": {},
   "outputs": [
    {
     "name": "stdout",
     "output_type": "stream",
     "text": [
      "(S\n",
      "  (Aux can)\n",
      "  (NP (Pro you))\n",
      "  (VP (Verb book) (NP (Nom (PNoun TWA) (Nom (Noun flights))))))\n",
      "(S\n",
      "  (Aux can)\n",
      "  (NP (Pro you))\n",
      "  (VP (Verb book) (NP (PNoun TWA)) (NP (Nom (Noun flights)))))\n"
     ]
    }
   ],
   "source": [
    "for tree in left_corner_parser.parse(sentence2):\n",
    "    print(tree)\n",
    "    tree.draw()"
   ]
  },
  {
   "cell_type": "code",
   "execution_count": null,
   "metadata": {},
   "outputs": [],
   "source": []
  }
 ],
 "metadata": {
  "kernelspec": {
   "display_name": "Python 3",
   "language": "python",
   "name": "python3"
  },
  "language_info": {
   "codemirror_mode": {
    "name": "ipython",
    "version": 3
   },
   "file_extension": ".py",
   "mimetype": "text/x-python",
   "name": "python",
   "nbconvert_exporter": "python",
   "pygments_lexer": "ipython3",
   "version": "3.7.4"
  }
 },
 "nbformat": 4,
 "nbformat_minor": 4
}
